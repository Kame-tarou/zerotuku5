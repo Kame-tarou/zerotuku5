{
 "cells": [
  {
   "cell_type": "markdown",
   "metadata": {},
   "source": [
    "# VAE(変分オートエンコーダー)"
   ]
  },
  {
   "cell_type": "markdown",
   "metadata": {},
   "source": [
    "## VAEとは？\n",
    "VAE(変分オートエンコーダ)の説明の前にオートエンコーダーとはなにか説明していきます  \n",
    "  \n",
    "### ・オートエンコーダー\n",
    "オートエンコーダーとは、教師なし学習の一つでデータを表現する特徴を得るためのニューラルネットワークである。  \n",
    "  \n",
    "オートエンコーダーの目標はデコーダーからもとの入力データを再現できるよう特徴表現を学習することです。  \n",
    "  \n",
    "主な活用事例としてデータのノイズ除去やクラスタリング、そしてデータ生成など  \n",
    "  \n",
    "幅広く活用されています。\n",
    "\n",
    "### ・変分オートエンコーダー\n",
    "  \n",
    "VAEはオートエンコーダーの拡張版で、データ生成に焦点を当てたモデルです。  \n",
    "  \n",
    "４章で話したようにデータの形は正規分布一個で表せるほど単純なものではありません。  \n",
    "  \n",
    "そこでGMMを学んだわけですが、  \n",
    "  \n",
    "今回はGMMよりも表現力を向上させるため学習データに合わせて柔軟に形が決定できるものを目指していきます。"
   ]
  },
  {
   "cell_type": "markdown",
   "metadata": {
    "vscode": {
     "languageId": "bat"
    }
   },
   "source": []
  },
  {
   "cell_type": "code",
   "execution_count": null,
   "metadata": {
    "vscode": {
     "languageId": "plaintext"
    }
   },
   "outputs": [],
   "source": []
  },
  {
   "cell_type": "markdown",
   "metadata": {},
   "source": []
  },
  {
   "cell_type": "markdown",
   "metadata": {},
   "source": []
  }
 ],
 "metadata": {
  "language_info": {
   "name": "python"
  }
 },
 "nbformat": 4,
 "nbformat_minor": 2
}
